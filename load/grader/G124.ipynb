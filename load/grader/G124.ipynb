{
 "cells": [
  {
   "cell_type": "markdown",
   "metadata": {},
   "source": [
    "# CORRECT FUNCTIONS"
   ]
  },
  {
   "cell_type": "code",
   "execution_count": null,
   "metadata": {},
   "outputs": [],
   "source": [
    "def upper_all_c(sentence):\n",
    "    '''Function that upper-case all first letters with exception of escape words'''\n",
    "    \n",
    "    words = sentence.split(' ') # We start of by spliting the words in a list\n",
    "    escape_words = ['a', 'the', 'of', 'to'] # Define the scape words in lower case\n",
    "    new_words = [] # Initiate a list to haold the new words\n",
    "    \n",
    "    for word in words: # Iterate over all words in the passed sentence\n",
    "        if word.lower() not in escape_words: # We check if the lower-cased word is in the escape words list\n",
    "            new_word = word[0].upper() + word[1:].lower() # Upper-case the first letter and lower the rest\n",
    "        else:\n",
    "            new_word = word.lower() # If escape words, we lower-case it\n",
    "        new_words.append(new_word) # Append to the new list\n",
    "        \n",
    "    new_sentence = ' '.join(new_words) # Join all elements of the list with space as separator\n",
    "    \n",
    "    return new_sentence"
   ]
  },
  {
   "cell_type": "code",
   "execution_count": null,
   "metadata": {},
   "outputs": [],
   "source": [
    "def get_mode_c(*args):\n",
    "    '''Returns the highest occurred parameter and its count'''\n",
    "    \n",
    "    counter = {} # Initiates an empty dictionary to hold parameter:count items\n",
    "    for p in args: # Iterates over all parameters\n",
    "        if p not in counter.keys(): # Checks if the parameter is already in counter\n",
    "            counter[p] = 1 # If not, creates the key with value 1\n",
    "        else:\n",
    "            counter[p] += 1 # If it is, add 1 to the count\n",
    "    \n",
    "    curr_max = (0, 0) # We initiate a tuple with 2 items to hold the mode\n",
    "    for k,v in counter.items(): # Iterate all the parameter:count we have in the counter\n",
    "        if v > curr_max[1]: # Should the count of the parameter be greate then the current max\n",
    "            curr_max = (k,v) # Replaces it\n",
    "            \n",
    "    return curr_max"
   ]
  },
  {
   "cell_type": "code",
   "execution_count": null,
   "metadata": {},
   "outputs": [],
   "source": [
    "quarter_c = lambda x: 'Q{}/{}'.format(roundup(int(x.split('/')[0])/3), x[-2:])\n",
    "# We define a string with the format we want and the placeholders for the Q number and Year number\n",
    "# Inside the format method, for the Q number we need to divide it by 3 and round it up\n",
    "# For the year number we can just take the last 2 digits of the passed string"
   ]
  },
  {
   "cell_type": "code",
   "execution_count": null,
   "metadata": {},
   "outputs": [],
   "source": [
    "class Car_c:\n",
    "    '''Class to represent a car object'''\n",
    "    \n",
    "    def __init__(self, brand, model, year, top_speed, weight):\n",
    "        '''Initiate class and assign atributes'''\n",
    "        self.brand = brand\n",
    "        self.model = model\n",
    "        self.year = year\n",
    "        self.top_speed = top_speed\n",
    "        self.weight = weight\n",
    "        self.sw_ratio = top_speed / (weight * 1000)\n",
    "        \n",
    "    def get_title(self):\n",
    "        '''Returns the Car Title'''\n",
    "        return self.brand + \" \" + self.model + \" \" + str(self.year)\n",
    "    \n",
    "    def set_mileage(self, mileage):\n",
    "        '''Defines current mileage'''\n",
    "        self.mileage = mileage\n",
    "        \n",
    "    def get_future_mileage(self, current_year, future_year):\n",
    "        '''Estimates a future mileage'''\n",
    "        yearly_mileage = self.mileage / (current_year - self.year)\n",
    "        additional_mileage = (future_year - current_year) * yearly_mileage\n",
    "        return self.mileage + additional_mileage"
   ]
  },
  {
   "cell_type": "markdown",
   "metadata": {},
   "source": [
    "___\n",
    "# GRADER METADATA"
   ]
  },
  {
   "cell_type": "markdown",
   "metadata": {},
   "source": [
    "### Required Libraries, if any"
   ]
  },
  {
   "cell_type": "code",
   "execution_count": null,
   "metadata": {},
   "outputs": [],
   "source": [
    "import numpy as np"
   ]
  },
  {
   "cell_type": "markdown",
   "metadata": {},
   "source": [
    "### Functions Points & Names"
   ]
  },
  {
   "cell_type": "code",
   "execution_count": null,
   "metadata": {},
   "outputs": [],
   "source": [
    "points = [1.5, 2, 2.5, 0.5, 1, 1, 1.5, 1]"
   ]
  },
  {
   "cell_type": "code",
   "execution_count": null,
   "metadata": {},
   "outputs": [],
   "source": [
    "student = {1: upper_all,\n",
    "           2: get_mode,\n",
    "           3: quarter,\n",
    "           4: Car}"
   ]
  },
  {
   "cell_type": "code",
   "execution_count": null,
   "metadata": {},
   "outputs": [],
   "source": [
    "teacher = {1: upper_all_c,\n",
    "           2: get_mode_c,\n",
    "           3: quarter_c,\n",
    "           4: Car_c}"
   ]
  },
  {
   "cell_type": "markdown",
   "metadata": {},
   "source": [
    "### Input Tests"
   ]
  },
  {
   "cell_type": "code",
   "execution_count": null,
   "metadata": {},
   "outputs": [],
   "source": [
    "class_runs = \\\n",
    "[*('Ford', 'Focus', 2018, 180, 1.4),\n",
    " *('Test', 'This Model', 2000, 220, 1.5),\n",
    " *('Fiat', 'Punto', 2014, 150, 1),\n",
    " *('Hyundai', 'HB20', 210, 125, 0.9)]"
   ]
  },
  {
   "cell_type": "code",
   "execution_count": null,
   "metadata": {},
   "outputs": [],
   "source": [
    "tests =\\\n",
    "{1:[\"Python is an interpreted, high-level, general-purpose programming language\",\n",
    "    \"Python's Benevolent Dictator For Life, a title the Python community bestowed upon him to\",\n",
    "    \"Fellow at the Python Software Foundation and Python book author\",\n",
    "    \"eiICUnc tO THe A uiencvowe Of me aS YUNDbucw\"],\n",
    " 2:[*[2, 3, 5, 2, 9, 5, 7, 5, 10],\n",
    "    *['a', 4, 't', 'f', 8, 't', 78.2, 'po', 't'],\n",
    "    *[1,2,3,4,5,6,7,8,9,1,'a','b'],\n",
    "    *[1,1,3,'foo','buzz','foo']],\n",
    " 3: ['05/2018', '07/2019', '10/2020', '01/2010']}"
   ]
  },
  {
   "cell_type": "code",
   "execution_count": null,
   "metadata": {},
   "outputs": [],
   "source": [
    "correct = []\n",
    "for k in tests.keys():\n",
    "    check_list = []\n",
    "    for test in tests[k]:\n",
    "        check = student[k](test) == teacher[k](test)\n",
    "        check_list.append(check)\n",
    "    correct.append(np.prod(check_list))"
   ]
  }
 ],
 "metadata": {
  "kernelspec": {
   "display_name": "Python 3",
   "language": "python",
   "name": "python3"
  },
  "language_info": {
   "codemirror_mode": {
    "name": "ipython",
    "version": 3
   },
   "file_extension": ".py",
   "mimetype": "text/x-python",
   "name": "python",
   "nbconvert_exporter": "python",
   "pygments_lexer": "ipython3",
   "version": "3.7.4"
  }
 },
 "nbformat": 4,
 "nbformat_minor": 4
}
