{
 "cells": [
  {
   "cell_type": "markdown",
   "metadata": {
    "deletable": false,
    "editable": false
   },
   "source": [
    "<img src=\"./img/Data_Journey.PNG\" width=\"800\">"
   ]
  },
  {
   "cell_type": "markdown",
   "metadata": {
    "deletable": false,
    "editable": false
   },
   "source": [
    "<center><font size=\"5\"><strong>Our Instructors</strong></font></center>\n",
    "\n",
    "<table style=\"width:100%\">\n",
    "    <tr>\n",
    "        <th><img src=\"./img/eric.png\" width=\"100\"></th>\n",
    "        <th><img src=\"./img/juliano.png\" width=\"100\"></th>\n",
    "        <th><img src=\"./img/vinh.png\" width=\"100\"></th>\n",
    "    </tr>\n",
    "    <tr>\n",
    "        <td style=\"text-align: center; vertical-align: middle;\"><font size=\"4\"><b>Ericson Mattoso</b></font></td>\n",
    "        <td style=\"text-align: center; vertical-align: middle;\"><font size=\"4\"><b>Juliano Garcia</b></font></td>\n",
    "        <td style=\"text-align: center; vertical-align: middle;\"><font size=\"4\"><b>Vinicius Ferreira</b></font></td>\n",
    "    </tr>\n",
    "    <tr>\n",
    "        <td style=\"text-align: center; vertical-align: middle;\">Data Scientist</td>\n",
    "        <td style=\"text-align: center; vertical-align: middle;\">Data Scientist</td>\n",
    "        <td style=\"text-align: center; vertical-align: middle;\">Data Scince Intern</td>\n",
    "    </tr>\n",
    "    <tr>\n",
    "        <td style=\"text-align: center; vertical-align: middle;\"><a href=\"mailto:ericson.mattoso@braskem.com\">Contact</a></td>\n",
    "        <td style=\"text-align: center; vertical-align: middle;\"><a href=\"mailto:juliano.garcia@braskem.com\">Contact</a></td>\n",
    "        <td style=\"text-align: center; vertical-align: middle;\"><a href=\"mailto:vinicius.saldanha@braskem.com\">Contact</a></td>\n",
    "    </tr>\n",
    "    <tr>\n",
    "        <td style=\"text-align: center; vertical-align: middle;\"><a href=\"https://calendly.com/ericson-mattoso/data-journey-mentoring\">Book a Mentoring Session</a></td>\n",
    "        <td style=\"text-align: center; vertical-align: middle;\"><a href=\"https://calendly.com/juliano-garcia/data-journey-mentoring\">Book a Mentoring Session</a></td>\n",
    "        <td style=\"text-align: center; vertical-align: middle;\"></td>\n",
    "    </tr>\n",
    "</table>"
   ]
  },
  {
   "cell_type": "markdown",
   "metadata": {
    "deletable": false,
    "editable": false
   },
   "source": [
    "# 1.2.4 Classes, Methods & Functions  \n",
    "Notebook by: Juliano Garcia"
   ]
  },
  {
   "cell_type": "markdown",
   "metadata": {
    "deletable": false,
    "editable": false
   },
   "source": [
    "# Objective  \n",
    "In this notebook you'll further develop your understanding of Python functions, classes and methods by creating such objects in a practical way."
   ]
  },
  {
   "cell_type": "code",
   "execution_count": 1,
   "metadata": {
    "deletable": false,
    "editable": false
   },
   "outputs": [],
   "source": [
    "# Remember to run this cell before starting - Loads all functionalities and/or variables required\n",
    "%run load/preload/124\n",
    "%run load/preload/get_answers"
   ]
  },
  {
   "cell_type": "markdown",
   "metadata": {
    "deletable": false,
    "editable": false
   },
   "source": [
    "___  \n",
    "\n",
    "# Warm-up Section"
   ]
  },
  {
   "cell_type": "markdown",
   "metadata": {
    "deletable": false,
    "editable": false
   },
   "source": [
    "### Exercise 1: Functions  \n",
    "Define a function that takes in a NAME and print \"Hello NAME\", name it `hello_you`."
   ]
  },
  {
   "cell_type": "code",
   "execution_count": null,
   "metadata": {
    "deletable": false
   },
   "outputs": [],
   "source": [
    "# Write your function here"
   ]
  },
  {
   "cell_type": "code",
   "execution_count": null,
   "metadata": {
    "deletable": false,
    "editable": false
   },
   "outputs": [],
   "source": [
    "# Test your function here\n",
    "hello_you(\"John\")\n",
    "# It should print: Hello John"
   ]
  },
  {
   "cell_type": "code",
   "execution_count": 2,
   "metadata": {
    "deletable": false,
    "editable": false,
    "scrolled": true
   },
   "outputs": [
    {
     "data": {
      "text/html": [
       "\n",
       "    <div id=\"div_124-1\" style=\"display: none;\"><div style=\"background: #f8f8f8; overflow:auto;width:auto;border:solid gray;border-width:.1em .1em .1em .8em;padding:.2em .6em;\"><pre style=\"margin: 0; line-height: 125%\"><span style=\"color: #008000; font-weight: bold\">def</span> <span style=\"color: #0000FF\">hello_you</span>(name):\n",
       "    <span style=\"color: #008000; font-weight: bold\">print</span>(<span style=\"color: #BA2121\">&quot;Hello &quot;</span> <span style=\"color: #666666\">+</span> name)\n",
       "</pre></div></div>\n",
       "    <script>\n",
       "        function code_toggle_17440849645630899595() {\n",
       "            var x = document.getElementById(\"div_124-1\");\n",
       "            if (x.style.display === \"none\") {\n",
       "                x.style.display = \"block\";\n",
       "            } else {\n",
       "                x.style.display = \"none\";\n",
       "            }\n",
       "        }\n",
       "    </script>\n",
       "    <button onclick=\"javascript:code_toggle_17440849645630899595()\">Show / Hide Answer</button>\n",
       "    "
      ],
      "text/plain": [
       "<IPython.core.display.HTML object>"
      ]
     },
     "execution_count": 2,
     "metadata": {},
     "output_type": "execute_result"
    }
   ],
   "source": [
    "# Click the button below to see the answer\n",
    "get_answer('124-1')"
   ]
  },
  {
   "cell_type": "markdown",
   "metadata": {
    "deletable": false,
    "editable": false
   },
   "source": [
    "### Exercise 2: Functions  \n",
    "Define a function that takes in 2 integers and return the square of their sum, name it `sum_squared`."
   ]
  },
  {
   "cell_type": "code",
   "execution_count": 1,
   "metadata": {
    "deletable": false
   },
   "outputs": [],
   "source": [
    "# Write your function here"
   ]
  },
  {
   "cell_type": "code",
   "execution_count": null,
   "metadata": {
    "deletable": false,
    "editable": false
   },
   "outputs": [],
   "source": [
    "# Test your function here\n",
    "sum_squared(3, 2)\n",
    "# It should return: 25"
   ]
  },
  {
   "cell_type": "code",
   "execution_count": 3,
   "metadata": {
    "deletable": false,
    "editable": false
   },
   "outputs": [
    {
     "data": {
      "text/html": [
       "\n",
       "    <div id=\"div_124-2\" style=\"display: none;\"><!-- HTML generated using hilite.me --><div style=\"background: #f8f8f8; overflow:auto;width:auto;border:solid gray;border-width:.1em .1em .1em .8em;padding:.2em .6em;\"><pre style=\"margin: 0; line-height: 125%\"><span style=\"color: #008000; font-weight: bold\">def</span> <span style=\"color: #0000FF\">sum_squared</span>(x, y):\n",
       "    <span style=\"color: #008000; font-weight: bold\">return</span> (x<span style=\"color: #666666\">+</span>y)<span style=\"color: #666666\">**2</span>\n",
       "</pre></div></div>\n",
       "    <script>\n",
       "        function code_toggle_6317802878055199286() {\n",
       "            var x = document.getElementById(\"div_124-2\");\n",
       "            if (x.style.display === \"none\") {\n",
       "                x.style.display = \"block\";\n",
       "            } else {\n",
       "                x.style.display = \"none\";\n",
       "            }\n",
       "        }\n",
       "    </script>\n",
       "    <button onclick=\"javascript:code_toggle_6317802878055199286()\">Show / Hide Answer</button>\n",
       "    "
      ],
      "text/plain": [
       "<IPython.core.display.HTML object>"
      ]
     },
     "execution_count": 3,
     "metadata": {},
     "output_type": "execute_result"
    }
   ],
   "source": [
    "# Click the button below to see the answer\n",
    "get_answer('124-2')"
   ]
  },
  {
   "cell_type": "markdown",
   "metadata": {
    "deletable": false,
    "editable": false
   },
   "source": [
    "### Exercise 3: Functions  \n",
    "Define a function that takes in 2 integers and return the lowest, name it `get_lowest`."
   ]
  },
  {
   "cell_type": "code",
   "execution_count": null,
   "metadata": {
    "deletable": false
   },
   "outputs": [],
   "source": [
    "# Write your function here"
   ]
  },
  {
   "cell_type": "code",
   "execution_count": null,
   "metadata": {
    "deletable": false,
    "editable": false
   },
   "outputs": [],
   "source": [
    "# Test your function here\n",
    "get_lowest(2, 10)\n",
    "# It should return: 2"
   ]
  },
  {
   "cell_type": "code",
   "execution_count": 4,
   "metadata": {
    "deletable": false,
    "editable": false
   },
   "outputs": [
    {
     "data": {
      "text/html": [
       "\n",
       "    <div id=\"div_124-3\" style=\"display: none;\"><!-- HTML generated using hilite.me --><div style=\"background: #f8f8f8; overflow:auto;width:auto;border:solid gray;border-width:.1em .1em .1em .8em;padding:.2em .6em;\"><pre style=\"margin: 0; line-height: 125%\"><span style=\"color: #008000; font-weight: bold\">def</span> <span style=\"color: #0000FF\">get_lowest</span>(x, y):\n",
       "    <span style=\"color: #008000; font-weight: bold\">if</span> x <span style=\"color: #666666\">&lt;</span> y:\n",
       "        <span style=\"color: #008000; font-weight: bold\">return</span> x\n",
       "    <span style=\"color: #008000; font-weight: bold\">else</span>:\n",
       "        <span style=\"color: #008000; font-weight: bold\">return</span> y\n",
       "</pre></div></div>\n",
       "    <script>\n",
       "        function code_toggle_6681630299324400791() {\n",
       "            var x = document.getElementById(\"div_124-3\");\n",
       "            if (x.style.display === \"none\") {\n",
       "                x.style.display = \"block\";\n",
       "            } else {\n",
       "                x.style.display = \"none\";\n",
       "            }\n",
       "        }\n",
       "    </script>\n",
       "    <button onclick=\"javascript:code_toggle_6681630299324400791()\">Show / Hide Answer</button>\n",
       "    "
      ],
      "text/plain": [
       "<IPython.core.display.HTML object>"
      ]
     },
     "execution_count": 4,
     "metadata": {},
     "output_type": "execute_result"
    }
   ],
   "source": [
    "# Click the button below to see the answer\n",
    "get_answer('124-3')"
   ]
  },
  {
   "cell_type": "markdown",
   "metadata": {
    "deletable": false,
    "editable": false
   },
   "source": [
    "### Exercise 4: Functions  \n",
    "Define a function that takes an arbitrary number of arguments and return the sum of those arguments, name it `sum_all`."
   ]
  },
  {
   "cell_type": "code",
   "execution_count": 31,
   "metadata": {
    "deletable": false
   },
   "outputs": [],
   "source": [
    "# Write your function here"
   ]
  },
  {
   "cell_type": "code",
   "execution_count": null,
   "metadata": {
    "deletable": false,
    "editable": false
   },
   "outputs": [],
   "source": [
    "# Test your function here\n",
    "sum_all(3, 5, 7, 15, 51, 19)\n",
    "# It should return: 100"
   ]
  },
  {
   "cell_type": "code",
   "execution_count": 5,
   "metadata": {
    "deletable": false,
    "editable": false
   },
   "outputs": [
    {
     "data": {
      "text/html": [
       "\n",
       "    <div id=\"div_124-4\" style=\"display: none;\"><!-- HTML generated using hilite.me --><div style=\"background: #f8f8f8; overflow:auto;width:auto;border:solid gray;border-width:.1em .1em .1em .8em;padding:.2em .6em;\"><pre style=\"margin: 0; line-height: 125%\"><span style=\"color: #008000; font-weight: bold\">def</span> <span style=\"color: #0000FF\">sum_all</span>(<span style=\"color: #666666\">*</span>args):\n",
       "    <span style=\"color: #008000; font-weight: bold\">return</span> <span style=\"color: #008000\">sum</span>(args)\n",
       "</pre></div></div>\n",
       "    <script>\n",
       "        function code_toggle_4805076511315504617() {\n",
       "            var x = document.getElementById(\"div_124-4\");\n",
       "            if (x.style.display === \"none\") {\n",
       "                x.style.display = \"block\";\n",
       "            } else {\n",
       "                x.style.display = \"none\";\n",
       "            }\n",
       "        }\n",
       "    </script>\n",
       "    <button onclick=\"javascript:code_toggle_4805076511315504617()\">Show / Hide Answer</button>\n",
       "    "
      ],
      "text/plain": [
       "<IPython.core.display.HTML object>"
      ]
     },
     "execution_count": 5,
     "metadata": {},
     "output_type": "execute_result"
    }
   ],
   "source": [
    "# Click the button below to see the answer\n",
    "get_answer('124-4')"
   ]
  },
  {
   "cell_type": "markdown",
   "metadata": {
    "deletable": false,
    "editable": false
   },
   "source": [
    "### Exercise 5: Functions  \n",
    "Define a function that takes an arbitrary number of arguments and returns a **list** containing only those arguments that are even, name it `only_even`."
   ]
  },
  {
   "cell_type": "code",
   "execution_count": null,
   "metadata": {
    "deletable": false
   },
   "outputs": [],
   "source": [
    "# Write your function here"
   ]
  },
  {
   "cell_type": "code",
   "execution_count": null,
   "metadata": {
    "deletable": false,
    "editable": false
   },
   "outputs": [],
   "source": [
    "# Test your function here\n",
    "only_even(2, 7, 9, 13, 4, 12, 28, 19, 52)\n",
    "# It should return: [2, 4, 12, 28, 52]"
   ]
  },
  {
   "cell_type": "code",
   "execution_count": 6,
   "metadata": {
    "deletable": false,
    "editable": false
   },
   "outputs": [
    {
     "data": {
      "text/html": [
       "\n",
       "    <div id=\"div_124-5\" style=\"display: none;\"><!-- HTML generated using hilite.me --><div style=\"background: #f8f8f8; overflow:auto;width:auto;border:solid gray;border-width:.1em .1em .1em .8em;padding:.2em .6em;\"><pre style=\"margin: 0; line-height: 125%\"><span style=\"color: #008000; font-weight: bold\">def</span> <span style=\"color: #0000FF\">only_even</span>(<span style=\"color: #666666\">*</span>args):\n",
       "    l <span style=\"color: #666666\">=</span> [] <span style=\"color: #408080; font-style: italic\"># Initiates an empty list</span>\n",
       "    <span style=\"color: #008000; font-weight: bold\">for</span> i <span style=\"color: #AA22FF; font-weight: bold\">in</span> args: <span style=\"color: #408080; font-style: italic\"># Iterates over all arguments passed</span>\n",
       "        <span style=\"color: #008000; font-weight: bold\">if</span> i<span style=\"color: #666666\">%2</span> <span style=\"color: #666666\">==</span> <span style=\"color: #666666\">0</span>: <span style=\"color: #408080; font-style: italic\"># Check if it&#39;s even</span>\n",
       "            l<span style=\"color: #666666\">.</span>append(i) <span style=\"color: #408080; font-style: italic\"># Append to the list in case it&#39;s even</span>\n",
       "    <span style=\"color: #008000; font-weight: bold\">return</span> l <span style=\"color: #408080; font-style: italic\"># Finally returns the list with only even numbers</span>\n",
       "</pre></div></div>\n",
       "    <script>\n",
       "        function code_toggle_12875613342306293544() {\n",
       "            var x = document.getElementById(\"div_124-5\");\n",
       "            if (x.style.display === \"none\") {\n",
       "                x.style.display = \"block\";\n",
       "            } else {\n",
       "                x.style.display = \"none\";\n",
       "            }\n",
       "        }\n",
       "    </script>\n",
       "    <button onclick=\"javascript:code_toggle_12875613342306293544()\">Show / Hide Answer</button>\n",
       "    "
      ],
      "text/plain": [
       "<IPython.core.display.HTML object>"
      ]
     },
     "execution_count": 6,
     "metadata": {},
     "output_type": "execute_result"
    }
   ],
   "source": [
    "# Click the button below to see the answer\n",
    "get_answer('124-5')"
   ]
  },
  {
   "cell_type": "markdown",
   "metadata": {
    "deletable": false,
    "editable": false
   },
   "source": [
    "### Exercise 6: Functions  \n",
    "Define an **annonymous** function that takes a string and returns the corresponding string with the first letter upper case, assign it to `first_upper`."
   ]
  },
  {
   "cell_type": "code",
   "execution_count": null,
   "metadata": {
    "deletable": false
   },
   "outputs": [],
   "source": [
    "# Write your function here"
   ]
  },
  {
   "cell_type": "code",
   "execution_count": null,
   "metadata": {
    "deletable": false,
    "editable": false
   },
   "outputs": [],
   "source": [
    "# Test your function here\n",
    "first_upper(\"john\")\n",
    "# It should return: 'John'"
   ]
  },
  {
   "cell_type": "code",
   "execution_count": 7,
   "metadata": {
    "deletable": false,
    "editable": false
   },
   "outputs": [
    {
     "data": {
      "text/html": [
       "\n",
       "    <div id=\"div_124-6\" style=\"display: none;\"><!-- HTML generated using hilite.me --><div style=\"background: #f8f8f8; overflow:auto;width:auto;border:solid gray;border-width:.1em .1em .1em .8em;padding:.2em .6em;\"><pre style=\"margin: 0; line-height: 125%\">first_upper <span style=\"color: #666666\">=</span> <span style=\"color: #008000; font-weight: bold\">lambda</span> x: x[<span style=\"color: #666666\">0</span>]<span style=\"color: #666666\">.</span>upper() <span style=\"color: #666666\">+</span> x[<span style=\"color: #666666\">1</span>:]\n",
       "</pre></div></div>\n",
       "    <script>\n",
       "        function code_toggle_16859872395372300146() {\n",
       "            var x = document.getElementById(\"div_124-6\");\n",
       "            if (x.style.display === \"none\") {\n",
       "                x.style.display = \"block\";\n",
       "            } else {\n",
       "                x.style.display = \"none\";\n",
       "            }\n",
       "        }\n",
       "    </script>\n",
       "    <button onclick=\"javascript:code_toggle_16859872395372300146()\">Show / Hide Answer</button>\n",
       "    "
      ],
      "text/plain": [
       "<IPython.core.display.HTML object>"
      ]
     },
     "execution_count": 7,
     "metadata": {},
     "output_type": "execute_result"
    }
   ],
   "source": [
    "# Click the button below to see the answer\n",
    "get_answer('124-6')"
   ]
  },
  {
   "cell_type": "markdown",
   "metadata": {
    "deletable": false,
    "editable": false
   },
   "source": [
    "### Exercise 7: Classes  \n",
    "Create a class named `Block` that takes into parameters of height, length and depth in meters. Also:\n",
    "- Assign those parameters as class atributes;\n",
    "- Create a method that calculates the total volume of the block (H x L x D), call it `get_volume`;\n",
    "- Create a method that takes in a number and changes the parameters of the block so we end up with a cube with a volume of the passed number, call it `cubed`."
   ]
  },
  {
   "cell_type": "code",
   "execution_count": null,
   "metadata": {
    "deletable": false
   },
   "outputs": [],
   "source": [
    "# Write your class here"
   ]
  },
  {
   "cell_type": "code",
   "execution_count": null,
   "metadata": {
    "deletable": false,
    "editable": false
   },
   "outputs": [],
   "source": [
    "# Test your function here\n",
    "block = Block(1.5, 2, 3)\n",
    "\n",
    "print(block.get_volume())\n",
    "# It should return: 9\n",
    "\n",
    "block.cubed(27)\n",
    "print((block.heigh, block.length, block.depth))\n",
    "# It should return: (3, 3, 3)"
   ]
  },
  {
   "cell_type": "code",
   "execution_count": 8,
   "metadata": {
    "deletable": false,
    "editable": false
   },
   "outputs": [
    {
     "data": {
      "text/html": [
       "\n",
       "    <div id=\"div_124-7\" style=\"display: none;\"><!-- HTML generated using hilite.me --><div style=\"background: #f8f8f8; overflow:auto;width:auto;border:solid gray;border-width:.1em .1em .1em .8em;padding:.2em .6em;\"><pre style=\"margin: 0; line-height: 125%\"><span style=\"color: #008000; font-weight: bold\">class</span> <span style=\"color: #0000FF; font-weight: bold\">Block</span>:\n",
       "    <span style=\"color: #BA2121; font-style: italic\">&#39;&#39;&#39;A class for block objects&#39;&#39;&#39;</span>\n",
       "    \n",
       "    <span style=\"color: #008000; font-weight: bold\">def</span> <span style=\"color: #0000FF\">__init__</span>(<span style=\"color: #008000\">self</span>, height, length, depth):\n",
       "        <span style=\"color: #008000\">self</span><span style=\"color: #666666\">.</span>height <span style=\"color: #666666\">=</span> height\n",
       "        <span style=\"color: #008000\">self</span><span style=\"color: #666666\">.</span>length <span style=\"color: #666666\">=</span> length\n",
       "        <span style=\"color: #008000\">self</span><span style=\"color: #666666\">.</span>depth <span style=\"color: #666666\">=</span> depth\n",
       "    \n",
       "    <span style=\"color: #008000; font-weight: bold\">def</span> <span style=\"color: #0000FF\">get_volume</span>(<span style=\"color: #008000\">self</span>):\n",
       "        <span style=\"color: #BA2121; font-style: italic\">&#39;&#39;&#39;Method to calculate total volume&#39;&#39;&#39;</span>\n",
       "        <span style=\"color: #008000; font-weight: bold\">return</span> <span style=\"color: #008000\">self</span><span style=\"color: #666666\">.</span>height <span style=\"color: #666666\">*</span> <span style=\"color: #008000\">self</span><span style=\"color: #666666\">.</span>length <span style=\"color: #666666\">*</span> <span style=\"color: #008000\">self</span><span style=\"color: #666666\">.</span>depth\n",
       "    \n",
       "    <span style=\"color: #008000; font-weight: bold\">def</span> <span style=\"color: #0000FF\">cubed</span>(<span style=\"color: #008000\">self</span>, volume):\n",
       "        <span style=\"color: #BA2121; font-style: italic\">&#39;&#39;&#39;Method to transform the block in a cube based on passed volume&#39;&#39;&#39;</span>\n",
       "        edge <span style=\"color: #666666\">=</span> volume<span style=\"color: #666666\">**</span>(<span style=\"color: #666666\">1/3</span>) <span style=\"color: #408080; font-style: italic\"># Cube root to get edge size</span>\n",
       "        <span style=\"color: #008000\">self</span><span style=\"color: #666666\">.</span>height <span style=\"color: #666666\">=</span> <span style=\"color: #008000\">self</span><span style=\"color: #666666\">.</span>length <span style=\"color: #666666\">=</span> <span style=\"color: #008000\">self</span><span style=\"color: #666666\">.</span>depth <span style=\"color: #666666\">=</span> edge\n",
       "</pre></div></div>\n",
       "    <script>\n",
       "        function code_toggle_1311788619743865892() {\n",
       "            var x = document.getElementById(\"div_124-7\");\n",
       "            if (x.style.display === \"none\") {\n",
       "                x.style.display = \"block\";\n",
       "            } else {\n",
       "                x.style.display = \"none\";\n",
       "            }\n",
       "        }\n",
       "    </script>\n",
       "    <button onclick=\"javascript:code_toggle_1311788619743865892()\">Show / Hide Answer</button>\n",
       "    "
      ],
      "text/plain": [
       "<IPython.core.display.HTML object>"
      ]
     },
     "execution_count": 8,
     "metadata": {},
     "output_type": "execute_result"
    }
   ],
   "source": [
    "# Click the button below to see the answer\n",
    "get_answer('124-7')"
   ]
  },
  {
   "cell_type": "markdown",
   "metadata": {
    "deletable": false,
    "editable": false
   },
   "source": [
    "___  \n",
    "\n",
    "# Graded Section  \n",
    "**Passing Grade: 60%**"
   ]
  },
  {
   "cell_type": "markdown",
   "metadata": {
    "deletable": false,
    "editable": false
   },
   "source": [
    "In this section you won't have access to the answer until the very end after running the `run_grader` function."
   ]
  },
  {
   "cell_type": "markdown",
   "metadata": {
    "deletable": false,
    "editable": false
   },
   "source": [
    "### Graded Exercise 1  \n",
    "#### 1.5pts  \n",
    "Create a function that takes in a string setence and returns that same sentence with the first letter of all words upper case and the rest lower case. Include the following scape words so they don't get upper cased: `a, the, of, to`.  \n",
    "Name it **`upper_all`**  \n",
    "e.g.:  \n",
    "<div><pre style=\"margin: 0; line-height: 125%\">\n",
    "\n",
    "In: upper_all(<span style=\"color: #BA2121\">&#39;proGraMing sKILls of a bUSinEss anAlyst SHOuld meet tHe bUsiNess exPECtations&#39;</span>)\n",
    "<span>Out: &#39;Programming Skills of a Business Analyst Should Meet the Business Expectations&#39;</span>\n",
    "</pre></div>\n"
   ]
  },
  {
   "cell_type": "code",
   "execution_count": null,
   "metadata": {
    "deletable": false
   },
   "outputs": [],
   "source": [
    "# Write your code here"
   ]
  },
  {
   "cell_type": "code",
   "execution_count": 9,
   "metadata": {
    "deletable": false,
    "editable": false
   },
   "outputs": [
    {
     "data": {
      "text/html": [
       "\n",
       "    <div id=\"div_124-G1\" style=\"display: none;\"><div class=\"highlight\" style=\"background: #f8f8f8\"><pre style=\"line-height: 125%\"><span></span><span style=\"color: #008000; font-weight: bold\">def</span> <span style=\"color: #0000FF\">upper_all</span>(sentence):\n",
       "    <span style=\"color: #BA2121; font-style: italic\">'''Function that upper-case all first letters with exception of escape words'''</span>\n",
       "    \n",
       "    words <span style=\"color: #666666\">=</span> sentence<span style=\"color: #666666\">.</span>split(<span style=\"color: #BA2121\">' '</span>) <span style=\"color: #408080; font-style: italic\"># We start of by spliting the words in a list</span>\n",
       "    escape_words <span style=\"color: #666666\">=</span> [<span style=\"color: #BA2121\">'a'</span>, <span style=\"color: #BA2121\">'the'</span>, <span style=\"color: #BA2121\">'of'</span>, <span style=\"color: #BA2121\">'to'</span>] <span style=\"color: #408080; font-style: italic\"># Define the scape words in lower case</span>\n",
       "    new_words <span style=\"color: #666666\">=</span> [] <span style=\"color: #408080; font-style: italic\"># Initiate a list to haold the new words</span>\n",
       "    \n",
       "    <span style=\"color: #008000; font-weight: bold\">for</span> word <span style=\"color: #AA22FF; font-weight: bold\">in</span> words: <span style=\"color: #408080; font-style: italic\"># Iterate over all words in the passed sentence</span>\n",
       "        <span style=\"color: #008000; font-weight: bold\">if</span> word<span style=\"color: #666666\">.</span>lower() <span style=\"color: #AA22FF; font-weight: bold\">not</span> <span style=\"color: #AA22FF; font-weight: bold\">in</span> escape_words: <span style=\"color: #408080; font-style: italic\"># We check if the lower-cased word is in the escape words list</span>\n",
       "            new_word <span style=\"color: #666666\">=</span> word[<span style=\"color: #666666\">0</span>]<span style=\"color: #666666\">.</span>upper() <span style=\"color: #666666\">+</span> word[<span style=\"color: #666666\">1</span>:]<span style=\"color: #666666\">.</span>lower() <span style=\"color: #408080; font-style: italic\"># Upper-case the first letter and lower the rest</span>\n",
       "        <span style=\"color: #008000; font-weight: bold\">else</span>:\n",
       "            new_word <span style=\"color: #666666\">=</span> word<span style=\"color: #666666\">.</span>lower() <span style=\"color: #408080; font-style: italic\"># If escape words, we lower-case it</span>\n",
       "        new_words<span style=\"color: #666666\">.</span>append(new_word) <span style=\"color: #408080; font-style: italic\"># Append to the new list</span>\n",
       "        \n",
       "    new_sentence <span style=\"color: #666666\">=</span> <span style=\"color: #BA2121\">' '</span><span style=\"color: #666666\">.</span>join(new_words) <span style=\"color: #408080; font-style: italic\"># Join all elements of the list with space as separator</span>\n",
       "    \n",
       "    <span style=\"color: #008000; font-weight: bold\">return</span> new_sentence\n",
       "</pre></div>\n",
       "</div>\n",
       "    <script>\n",
       "        function code_toggle_3174823069424115161() {\n",
       "            var x = document.getElementById(\"div_124-G1\");\n",
       "            if (x.style.display === \"none\") {\n",
       "                x.style.display = \"block\";\n",
       "            } else {\n",
       "                x.style.display = \"none\";\n",
       "            }\n",
       "        }\n",
       "    </script>\n",
       "    <button onclick=\"javascript:code_toggle_3174823069424115161()\">Show / Hide Answer</button>\n",
       "    "
      ],
      "text/plain": [
       "<IPython.core.display.HTML object>"
      ]
     },
     "execution_count": 9,
     "metadata": {},
     "output_type": "execute_result"
    }
   ],
   "source": [
    "# Answer - Delete before making available to students\n",
    "get_answer('124-G1')"
   ]
  },
  {
   "cell_type": "markdown",
   "metadata": {
    "deletable": false,
    "editable": false
   },
   "source": [
    "_**Don't forget to execute the cell**_"
   ]
  },
  {
   "cell_type": "markdown",
   "metadata": {
    "deletable": false,
    "editable": false
   },
   "source": [
    "### Graded Exercise 2  \n",
    "#### 2.0pts  \n",
    "Create a function that takes in an arbitrary number of parameters and returns a tupple with the most frequent parameter and the total times it appears. If more than 2 with the same count, return either one.  \n",
    "Name it **`get_mode`**  \n",
    "e.g.:  \n",
    "<div><pre style=\"margin: 0; line-height: 125%\">\n",
    "\n",
    "In: get_mode(<span style=\"color: #008000\">2</span>, <span style=\"color: #008000\">3</span>, <span style=\"color: #008000\">5</span>, <span style=\"color: #008000\">2</span>, <span style=\"color: #008000\">9</span>, <span style=\"color: #008000\">5</span>, <span style=\"color: #008000\">7</span>, <span style=\"color: #008000\">5</span>, <span style=\"color: #008000\">10</span>)\n",
    "Out: (5, 3)\n",
    "\n",
    "In: get_mode(<span style=\"color: #BA2121\">&#39;a&#39;</span>, <span style=\"color: #008000\">4</span>, <span style=\"color: #BA2121\">&#39;t&#39;</span>, <span style=\"color: #BA2121\">&#39;f&#39;</span>, <span style=\"color: #008000\">8</span>, <span style=\"color: #BA2121\">&#39;t&#39;</span>, <span style=\"color: #008000\">78.2</span>, <span style=\"color: #BA2121\">&#39;po&#39;</span>, <span style=\"color: #BA2121\">&#39;t&#39;</span>)\n",
    "Out: (&#39;t&#39;, 3)\n",
    "</pre></div>"
   ]
  },
  {
   "cell_type": "code",
   "execution_count": null,
   "metadata": {
    "deletable": false
   },
   "outputs": [],
   "source": [
    "# Write your code here"
   ]
  },
  {
   "cell_type": "code",
   "execution_count": 10,
   "metadata": {
    "deletable": false,
    "editable": false
   },
   "outputs": [
    {
     "data": {
      "text/html": [
       "\n",
       "    <div id=\"div_124-G2\" style=\"display: none;\"><div class=\"highlight\" style=\"background: #f8f8f8\"><pre style=\"line-height: 125%\"><span></span><span style=\"color: #008000; font-weight: bold\">def</span> <span style=\"color: #0000FF\">get_mode</span>(<span style=\"color: #666666\">*</span>args):\n",
       "    <span style=\"color: #BA2121; font-style: italic\">'''Returns the highest occurred parameter and its count'''</span>\n",
       "    \n",
       "    counter <span style=\"color: #666666\">=</span> {} <span style=\"color: #408080; font-style: italic\"># Initiates an empty dictionary to hold parameter:count items</span>\n",
       "    <span style=\"color: #008000; font-weight: bold\">for</span> p <span style=\"color: #AA22FF; font-weight: bold\">in</span> args: <span style=\"color: #408080; font-style: italic\"># Iterates over all parameters</span>\n",
       "        <span style=\"color: #008000; font-weight: bold\">if</span> p <span style=\"color: #AA22FF; font-weight: bold\">not</span> <span style=\"color: #AA22FF; font-weight: bold\">in</span> counter<span style=\"color: #666666\">.</span>keys(): <span style=\"color: #408080; font-style: italic\"># Checks if the parameter is already in counter</span>\n",
       "            counter[p] <span style=\"color: #666666\">=</span> <span style=\"color: #666666\">1</span> <span style=\"color: #408080; font-style: italic\"># If not, creates the key with value 1</span>\n",
       "        <span style=\"color: #008000; font-weight: bold\">else</span>:\n",
       "            counter[p] <span style=\"color: #666666\">+=</span> <span style=\"color: #666666\">1</span> <span style=\"color: #408080; font-style: italic\"># If it is, add 1 to the count</span>\n",
       "    \n",
       "    curr_max <span style=\"color: #666666\">=</span> (<span style=\"color: #666666\">0</span>, <span style=\"color: #666666\">0</span>) <span style=\"color: #408080; font-style: italic\"># We initiate a tuple with 2 items to hold the mode</span>\n",
       "    <span style=\"color: #008000; font-weight: bold\">for</span> k,v <span style=\"color: #AA22FF; font-weight: bold\">in</span> counter<span style=\"color: #666666\">.</span>items(): <span style=\"color: #408080; font-style: italic\"># Iterate all the parameter:count we have in the counter</span>\n",
       "        <span style=\"color: #008000; font-weight: bold\">if</span> v <span style=\"color: #666666\">&gt;</span> curr_max[<span style=\"color: #666666\">1</span>]: <span style=\"color: #408080; font-style: italic\"># Should the count of the parameter be greate then the current max</span>\n",
       "            curr_max <span style=\"color: #666666\">=</span> (k,v) <span style=\"color: #408080; font-style: italic\"># Replaces it</span>\n",
       "            \n",
       "    <span style=\"color: #008000; font-weight: bold\">return</span> curr_max\n",
       "</pre></div>\n",
       "</div>\n",
       "    <script>\n",
       "        function code_toggle_12120337009281509588() {\n",
       "            var x = document.getElementById(\"div_124-G2\");\n",
       "            if (x.style.display === \"none\") {\n",
       "                x.style.display = \"block\";\n",
       "            } else {\n",
       "                x.style.display = \"none\";\n",
       "            }\n",
       "        }\n",
       "    </script>\n",
       "    <button onclick=\"javascript:code_toggle_12120337009281509588()\">Show / Hide Answer</button>\n",
       "    "
      ],
      "text/plain": [
       "<IPython.core.display.HTML object>"
      ]
     },
     "execution_count": 10,
     "metadata": {},
     "output_type": "execute_result"
    }
   ],
   "source": [
    "# Answer - Delete before making available to students\n",
    "get_answer('124-G2')"
   ]
  },
  {
   "cell_type": "markdown",
   "metadata": {
    "deletable": false,
    "editable": false
   },
   "source": [
    "_**Don't forget to execute the cell**_"
   ]
  },
  {
   "cell_type": "markdown",
   "metadata": {
    "deletable": false,
    "editable": false
   },
   "source": [
    "### Graded Exercise 3  \n",
    "#### 2.5pts  \n",
    "Create an **annonymous** function that takes in a date string (format: `MM/YYYY`) and returns it quarter in the format: `QX/YY`.  \n",
    "Assign it to **`quarter`**  \n",
    "e.g.:  \n",
    "<div><pre style=\"margin: 0; line-height: 125%\">\n",
    "\n",
    "In: quarter(<span style=\"color: #BA2121\">&#39;05/2018&#39;</span>)\n",
    "<span>Out: &#39;Q2/18&#39;</span>\n",
    "</pre></div>\n"
   ]
  },
  {
   "cell_type": "markdown",
   "metadata": {
    "deletable": false,
    "editable": false
   },
   "source": [
    "*Hint: Use the pre-loaded `roundup` function to round a float to the upper integer*"
   ]
  },
  {
   "cell_type": "code",
   "execution_count": 1,
   "metadata": {
    "deletable": false
   },
   "outputs": [],
   "source": [
    "# Write your code here"
   ]
  },
  {
   "cell_type": "code",
   "execution_count": 11,
   "metadata": {
    "deletable": false,
    "editable": false
   },
   "outputs": [
    {
     "data": {
      "text/html": [
       "\n",
       "    <div id=\"div_124-G3\" style=\"display: none;\"><div class=\"highlight\" style=\"background: #f8f8f8\"><pre style=\"line-height: 125%\"><span></span>quarter <span style=\"color: #666666\">=</span> <span style=\"color: #008000; font-weight: bold\">lambda</span> x: <span style=\"color: #BA2121\">'Q</span><span style=\"color: #BB6688; font-weight: bold\">{}</span><span style=\"color: #BA2121\">/</span><span style=\"color: #BB6688; font-weight: bold\">{}</span><span style=\"color: #BA2121\">'</span><span style=\"color: #666666\">.</span>format(roundup(<span style=\"color: #008000\">int</span>(x<span style=\"color: #666666\">.</span>split(<span style=\"color: #BA2121\">'/'</span>)[<span style=\"color: #666666\">0</span>])<span style=\"color: #666666\">/3</span>), x[<span style=\"color: #666666\">-2</span>:])\n",
       "<span style=\"color: #408080; font-style: italic\"># We define a string with the format we want and the placeholders for the Q number and Year number</span>\n",
       "<span style=\"color: #408080; font-style: italic\"># Inside the format method, for the Q number we need to divide it by 3 and round it up</span>\n",
       "<span style=\"color: #408080; font-style: italic\"># For the year number we can just take the last 2 digits of the passed string</span>\n",
       "</pre></div>\n",
       "</div>\n",
       "    <script>\n",
       "        function code_toggle_10982242583112738962() {\n",
       "            var x = document.getElementById(\"div_124-G3\");\n",
       "            if (x.style.display === \"none\") {\n",
       "                x.style.display = \"block\";\n",
       "            } else {\n",
       "                x.style.display = \"none\";\n",
       "            }\n",
       "        }\n",
       "    </script>\n",
       "    <button onclick=\"javascript:code_toggle_10982242583112738962()\">Show / Hide Answer</button>\n",
       "    "
      ],
      "text/plain": [
       "<IPython.core.display.HTML object>"
      ]
     },
     "execution_count": 11,
     "metadata": {},
     "output_type": "execute_result"
    }
   ],
   "source": [
    "# Answer - Delete before making available to students\n",
    "get_answer('124-G3')"
   ]
  },
  {
   "cell_type": "markdown",
   "metadata": {
    "deletable": false,
    "editable": false
   },
   "source": [
    "_**Don't forget to execute the cell**_"
   ]
  },
  {
   "cell_type": "markdown",
   "metadata": {
    "deletable": false,
    "editable": false
   },
   "source": [
    "### Graded Exercise 4  \n",
    "#### 4pts  \n",
    "Create a class to represent a car that takes in `brand`, `model`, `year`, `top_speed`(km/h) and `weight`(tons). Call it **`Car`**  \n",
    "Then:  \n",
    "1. **(0.5pts)** Assign the parameters to Class' attributes;\n",
    "2. **(1.0pts)** Create a calculated attribute that is the ratio between `top_speed`(km/h) and `weight`(kilograms). Name it `sw_ratio`\n",
    "2. **(1.0pts)** Create a method that returns a String with the car's brand, model and year. Name it `get_title`;\n",
    "3. **(1.5pts)** Create a method that assigns a mileage, in kilometers, to the `mileage` attribute of the car object (returns none). Name it `set_mileage`;\n",
    "4. **(Bonus: 1.0pts)** Create a method that takes the current year and an arbitrary future year and returns the expected milage for that future year, assume linear growth. Name it `get_future_mileage`;  \n",
    "\n",
    "e.g.:  \n",
    "<div><pre style=\"margin: 0; line-height: 125%\">\n",
    "\n",
    "In: car <span style=\"color: #666666\">=</span> Car(<span style=\"color: #BA2121\">&#39;Ford&#39;</span>, <span style=\"color: #BA2121\">&#39;Focus&#39;</span>, <span style=\"color: #008000\">2018</span>, <span style=\"color: #008000\">180</span>, <span style=\"color: #008000\">1.4</span>)\n",
    "\n",
    "In: car<span style=\"color: #666666\">.</span>sw_ratio\n",
    "Out: 0.12857142857142857142\n",
    "\n",
    "In: car<span style=\"color: #666666\">.</span>get_title()\n",
    "Out: &#39;Ford Focus 2018&#39;\n",
    "\n",
    "In: car<span style=\"color: #666666\">.</span>set_mileage(<span style=\"color: #008000\">30000</span>)\n",
    "In: car<span style=\"color: #666666\">.</span>mileage\n",
    "Out: 30000\n",
    "\n",
    "In: car<span style=\"color: #666666\">.</span>get_future_mileage(<span style=\"color: #008000\">2020</span>, <span style=\"color: #008000\">2022</span>)\n",
    "Out: 60000.0\n",
    "</pre></div>"
   ]
  },
  {
   "cell_type": "markdown",
   "metadata": {
    "deletable": false,
    "editable": false
   },
   "source": [
    "_Hint1: Yearly mileage = Mileage / (Current Year - Car Year)_  \n",
    "_Hint2: Mind the `self` parameter_"
   ]
  },
  {
   "cell_type": "code",
   "execution_count": null,
   "metadata": {
    "deletable": false
   },
   "outputs": [],
   "source": [
    "# Write your code here"
   ]
  },
  {
   "cell_type": "code",
   "execution_count": 12,
   "metadata": {
    "deletable": false,
    "editable": false
   },
   "outputs": [
    {
     "data": {
      "text/html": [
       "\n",
       "    <div id=\"div_124-G4\" style=\"display: none;\"><div class=\"highlight\" style=\"background: #f8f8f8\"><pre style=\"line-height: 125%\"><span></span><span style=\"color: #008000; font-weight: bold\">class</span> <span style=\"color: #0000FF; font-weight: bold\">Car</span>:\n",
       "    <span style=\"color: #BA2121; font-style: italic\">'''Class to represent a car object'''</span>\n",
       "    \n",
       "    <span style=\"color: #008000; font-weight: bold\">def</span> <span style=\"color: #0000FF\">__init__</span>(<span style=\"color: #008000\">self</span>, brand, model, year, top_speed, weight):\n",
       "        <span style=\"color: #BA2121; font-style: italic\">'''Initiate class and assign atributes'''</span>\n",
       "        <span style=\"color: #008000\">self</span><span style=\"color: #666666\">.</span>brand <span style=\"color: #666666\">=</span> brand\n",
       "        <span style=\"color: #008000\">self</span><span style=\"color: #666666\">.</span>model <span style=\"color: #666666\">=</span> model\n",
       "        <span style=\"color: #008000\">self</span><span style=\"color: #666666\">.</span>year <span style=\"color: #666666\">=</span> year\n",
       "        <span style=\"color: #008000\">self</span><span style=\"color: #666666\">.</span>top_speed <span style=\"color: #666666\">=</span> top_speed\n",
       "        <span style=\"color: #008000\">self</span><span style=\"color: #666666\">.</span>weight <span style=\"color: #666666\">=</span> weight\n",
       "        <span style=\"color: #008000\">self</span><span style=\"color: #666666\">.</span>sw_ratio <span style=\"color: #666666\">=</span> top_speed <span style=\"color: #666666\">/</span> (weight <span style=\"color: #666666\">*</span> <span style=\"color: #666666\">1000</span>)\n",
       "        \n",
       "    <span style=\"color: #008000; font-weight: bold\">def</span> <span style=\"color: #0000FF\">get_title</span>(<span style=\"color: #008000\">self</span>):\n",
       "        <span style=\"color: #BA2121; font-style: italic\">'''Returns the Car Title'''</span>\n",
       "        <span style=\"color: #008000; font-weight: bold\">return</span> <span style=\"color: #008000\">self</span><span style=\"color: #666666\">.</span>brand <span style=\"color: #666666\">+</span> <span style=\"color: #BA2121\">\" \"</span> <span style=\"color: #666666\">+</span> <span style=\"color: #008000\">self</span><span style=\"color: #666666\">.</span>model <span style=\"color: #666666\">+</span> <span style=\"color: #BA2121\">\" \"</span> <span style=\"color: #666666\">+</span> <span style=\"color: #008000\">str</span>(<span style=\"color: #008000\">self</span><span style=\"color: #666666\">.</span>year)\n",
       "    \n",
       "    <span style=\"color: #008000; font-weight: bold\">def</span> <span style=\"color: #0000FF\">set_mileage</span>(<span style=\"color: #008000\">self</span>, mileage):\n",
       "        <span style=\"color: #BA2121; font-style: italic\">'''Defines current mileage'''</span>\n",
       "        <span style=\"color: #008000\">self</span><span style=\"color: #666666\">.</span>mileage <span style=\"color: #666666\">=</span> mileage\n",
       "        \n",
       "    <span style=\"color: #008000; font-weight: bold\">def</span> <span style=\"color: #0000FF\">get_future_mileage</span>(<span style=\"color: #008000\">self</span>, current_year, future_year):\n",
       "        <span style=\"color: #BA2121; font-style: italic\">'''Estimates a future mileage'''</span>\n",
       "        yearly_mileage <span style=\"color: #666666\">=</span> <span style=\"color: #008000\">self</span><span style=\"color: #666666\">.</span>mileage <span style=\"color: #666666\">/</span> (current_year <span style=\"color: #666666\">-</span> <span style=\"color: #008000\">self</span><span style=\"color: #666666\">.</span>year)\n",
       "        additional_mileage <span style=\"color: #666666\">=</span> (future_year <span style=\"color: #666666\">-</span> current_year) <span style=\"color: #666666\">*</span> yearly_mileage\n",
       "        <span style=\"color: #008000; font-weight: bold\">return</span> <span style=\"color: #008000\">self</span><span style=\"color: #666666\">.</span>mileage <span style=\"color: #666666\">+</span> additional_mileage\n",
       "</pre></div>\n",
       "</div>\n",
       "    <script>\n",
       "        function code_toggle_16407304690675679382() {\n",
       "            var x = document.getElementById(\"div_124-G4\");\n",
       "            if (x.style.display === \"none\") {\n",
       "                x.style.display = \"block\";\n",
       "            } else {\n",
       "                x.style.display = \"none\";\n",
       "            }\n",
       "        }\n",
       "    </script>\n",
       "    <button onclick=\"javascript:code_toggle_16407304690675679382()\">Show / Hide Answer</button>\n",
       "    "
      ],
      "text/plain": [
       "<IPython.core.display.HTML object>"
      ]
     },
     "execution_count": 12,
     "metadata": {},
     "output_type": "execute_result"
    }
   ],
   "source": [
    "# Answer - Delete before making available to students\n",
    "get_answer('124-G4')"
   ]
  },
  {
   "cell_type": "markdown",
   "metadata": {
    "deletable": false,
    "editable": false
   },
   "source": [
    "_**Don't forget to execute the cell**_"
   ]
  },
  {
   "cell_type": "markdown",
   "metadata": {
    "deletable": false,
    "editable": false
   },
   "source": [
    "### Grading  \n",
    "Once you're confortable with your code run the code cell bellow to run the grader, you have **3 attempts**.  \n",
    "After getting everything correct or running the grader 3 times you will get the answers to the Graded Exercises."
   ]
  },
  {
   "cell_type": "markdown",
   "metadata": {
    "deletable": false,
    "editable": false
   },
   "source": [
    "Should you pass, you will get an email with your grade and badge. Should you fail, we recommend that you watch the class and try the warm up exercises and supporting material again."
   ]
  },
  {
   "cell_type": "code",
   "execution_count": null,
   "metadata": {
    "deletable": false,
    "editable": false
   },
   "outputs": [],
   "source": [
    "# Runs the Grader - Run it only once you're ready to submit your answers!\n",
    "run_grader(124)"
   ]
  },
  {
   "cell_type": "markdown",
   "metadata": {
    "deletable": false,
    "editable": false
   },
   "source": [
    "# Conclusion"
   ]
  },
  {
   "cell_type": "markdown",
   "metadata": {
    "deletable": false,
    "editable": false
   },
   "source": [
    "Thanks for taking this module, we hope that by now you're feeling confortable with the syntax for creating and executing functions and classes in Python! Should you need any extra help feel free to book a mentoring session with one of our instructors."
   ]
  },
  {
   "cell_type": "markdown",
   "metadata": {
    "deletable": false,
    "editable": false
   },
   "source": [
    "Happy Learning! :)"
   ]
  }
 ],
 "metadata": {
  "kernelspec": {
   "display_name": "Python 3",
   "language": "python",
   "name": "python3"
  },
  "language_info": {
   "codemirror_mode": {
    "name": "ipython",
    "version": 3
   },
   "file_extension": ".py",
   "mimetype": "text/x-python",
   "name": "python",
   "nbconvert_exporter": "python",
   "pygments_lexer": "ipython3",
   "version": "3.7.4"
  }
 },
 "nbformat": 4,
 "nbformat_minor": 2
}
